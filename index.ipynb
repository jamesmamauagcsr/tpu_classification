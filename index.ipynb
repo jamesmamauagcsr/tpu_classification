{
 "cells": [
  {
   "cell_type": "code",
   "execution_count": 1,
   "id": "2874272b",
   "metadata": {
    "execution": {
     "iopub.execute_input": "2022-01-10T16:53:29.389786Z",
     "iopub.status.busy": "2022-01-10T16:53:29.388825Z",
     "iopub.status.idle": "2022-01-10T16:53:41.830373Z",
     "shell.execute_reply": "2022-01-10T16:53:41.829661Z",
     "shell.execute_reply.started": "2022-01-10T15:06:26.287111Z"
    },
    "papermill": {
     "duration": 12.471093,
     "end_time": "2022-01-10T16:53:41.830543",
     "exception": false,
     "start_time": "2022-01-10T16:53:29.359450",
     "status": "completed"
    },
    "tags": []
   },
   "outputs": [
    {
     "name": "stdout",
     "output_type": "stream",
     "text": [
      "\u001b[33mWARNING: Running pip as the 'root' user can result in broken permissions and conflicting behaviour with the system package manager. It is recommended to use a virtual environment instead: https://pip.pypa.io/warnings/venv\u001b[0m\r\n"
     ]
    }
   ],
   "source": [
    "!pip install -q git+https://github.com/sebastian-sz/resnet-rs-keras@main"
   ]
  },
  {
   "cell_type": "code",
   "execution_count": 2,
   "id": "8a4d12f4",
   "metadata": {
    "_cell_guid": "b1076dfc-b9ad-4769-8c92-a6c4dae69d19",
    "_uuid": "8f2839f25d086af736a60e9eeb907d3b93b6e0e5",
    "execution": {
     "iopub.execute_input": "2022-01-10T16:53:41.868354Z",
     "iopub.status.busy": "2022-01-10T16:53:41.867143Z",
     "iopub.status.idle": "2022-01-10T16:53:46.856941Z",
     "shell.execute_reply": "2022-01-10T16:53:46.857394Z",
     "shell.execute_reply.started": "2022-01-10T15:07:13.665622Z"
    },
    "papermill": {
     "duration": 5.010939,
     "end_time": "2022-01-10T16:53:46.857569",
     "exception": false,
     "start_time": "2022-01-10T16:53:41.846630",
     "status": "completed"
    },
    "tags": []
   },
   "outputs": [
    {
     "name": "stderr",
     "output_type": "stream",
     "text": [
      "2022-01-10 16:53:42.450215: W tensorflow/stream_executor/platform/default/dso_loader.cc:60] Could not load dynamic library 'libcudart.so.11.0'; dlerror: libcudart.so.11.0: cannot open shared object file: No such file or directory; LD_LIBRARY_PATH: /opt/conda/lib\n",
      "2022-01-10 16:53:42.450324: I tensorflow/stream_executor/cuda/cudart_stub.cc:29] Ignore above cudart dlerror if you do not have a GPU set up on your machine.\n"
     ]
    },
    {
     "name": "stdout",
     "output_type": "stream",
     "text": [
      "Tensorflow version 2.4.1\n"
     ]
    }
   ],
   "source": [
    "import tensorflow as tf\n",
    "from kaggle_datasets import KaggleDatasets\n",
    "import numpy as np\n",
    "import matplotlib.pyplot as plt\n",
    "import resnet_rs\n",
    "\n",
    "print(\"Tensorflow version \" + tf.__version__)"
   ]
  },
  {
   "cell_type": "markdown",
   "id": "07e581e1",
   "metadata": {
    "papermill": {
     "duration": 0.015389,
     "end_time": "2022-01-10T16:53:46.889037",
     "exception": false,
     "start_time": "2022-01-10T16:53:46.873648",
     "status": "completed"
    },
    "tags": []
   },
   "source": [
    "# Detect my accelerator"
   ]
  },
  {
   "cell_type": "code",
   "execution_count": 3,
   "id": "3c769852",
   "metadata": {
    "execution": {
     "iopub.execute_input": "2022-01-10T16:53:46.932595Z",
     "iopub.status.busy": "2022-01-10T16:53:46.931732Z",
     "iopub.status.idle": "2022-01-10T16:53:53.227155Z",
     "shell.execute_reply": "2022-01-10T16:53:53.226523Z",
     "shell.execute_reply.started": "2022-01-10T15:07:37.10244Z"
    },
    "papermill": {
     "duration": 6.322444,
     "end_time": "2022-01-10T16:53:53.227302",
     "exception": false,
     "start_time": "2022-01-10T16:53:46.904858",
     "status": "completed"
    },
    "tags": []
   },
   "outputs": [
    {
     "name": "stderr",
     "output_type": "stream",
     "text": [
      "2022-01-10 16:53:46.927482: I tensorflow/compiler/jit/xla_cpu_device.cc:41] Not creating XLA devices, tf_xla_enable_xla_devices not set\n",
      "2022-01-10 16:53:46.930292: W tensorflow/stream_executor/platform/default/dso_loader.cc:60] Could not load dynamic library 'libcuda.so.1'; dlerror: libcuda.so.1: cannot open shared object file: No such file or directory; LD_LIBRARY_PATH: /opt/conda/lib\n",
      "2022-01-10 16:53:46.930327: W tensorflow/stream_executor/cuda/cuda_driver.cc:326] failed call to cuInit: UNKNOWN ERROR (303)\n",
      "2022-01-10 16:53:46.930353: I tensorflow/stream_executor/cuda/cuda_diagnostics.cc:156] kernel driver does not appear to be running on this host (98e242595075): /proc/driver/nvidia/version does not exist\n",
      "2022-01-10 16:53:46.933437: I tensorflow/core/platform/cpu_feature_guard.cc:142] This TensorFlow binary is optimized with oneAPI Deep Neural Network Library (oneDNN) to use the following CPU instructions in performance-critical operations:  AVX2 FMA\n",
      "To enable them in other operations, rebuild TensorFlow with the appropriate compiler flags.\n",
      "2022-01-10 16:53:46.934798: I tensorflow/compiler/jit/xla_gpu_device.cc:99] Not creating XLA devices, tf_xla_enable_xla_devices not set\n",
      "2022-01-10 16:53:46.940138: I tensorflow/compiler/jit/xla_gpu_device.cc:99] Not creating XLA devices, tf_xla_enable_xla_devices not set\n",
      "2022-01-10 16:53:46.964189: I tensorflow/core/distributed_runtime/rpc/grpc_channel.cc:301] Initialize GrpcChannelCache for job worker -> {0 -> 10.0.0.2:8470}\n",
      "2022-01-10 16:53:46.964245: I tensorflow/core/distributed_runtime/rpc/grpc_channel.cc:301] Initialize GrpcChannelCache for job localhost -> {0 -> localhost:30019}\n",
      "2022-01-10 16:53:46.986684: I tensorflow/core/distributed_runtime/rpc/grpc_channel.cc:301] Initialize GrpcChannelCache for job worker -> {0 -> 10.0.0.2:8470}\n",
      "2022-01-10 16:53:46.986733: I tensorflow/core/distributed_runtime/rpc/grpc_channel.cc:301] Initialize GrpcChannelCache for job localhost -> {0 -> localhost:30019}\n",
      "2022-01-10 16:53:46.987911: I tensorflow/core/distributed_runtime/rpc/grpc_server_lib.cc:411] Started server with target: grpc://localhost:30019\n"
     ]
    }
   ],
   "source": [
    "# detect and init the TPU\n",
    "tpu = tf.distribute.cluster_resolver.TPUClusterResolver.connect()\n",
    "\n",
    "# instantiate a distribution strategy\n",
    "strategy = tf.distribute.experimental.TPUStrategy(tpu)"
   ]
  },
  {
   "cell_type": "markdown",
   "id": "60759bab",
   "metadata": {
    "papermill": {
     "duration": 0.015935,
     "end_time": "2022-01-10T16:53:53.259369",
     "exception": false,
     "start_time": "2022-01-10T16:53:53.243434",
     "status": "completed"
    },
    "tags": []
   },
   "source": [
    "# Get my data path"
   ]
  },
  {
   "cell_type": "code",
   "execution_count": 4,
   "id": "647690f3",
   "metadata": {
    "execution": {
     "iopub.execute_input": "2022-01-10T16:53:53.295332Z",
     "iopub.status.busy": "2022-01-10T16:53:53.294670Z",
     "iopub.status.idle": "2022-01-10T16:53:53.762163Z",
     "shell.execute_reply": "2022-01-10T16:53:53.762703Z",
     "shell.execute_reply.started": "2022-01-10T15:07:47.177118Z"
    },
    "papermill": {
     "duration": 0.487351,
     "end_time": "2022-01-10T16:53:53.762895",
     "exception": false,
     "start_time": "2022-01-10T16:53:53.275544",
     "status": "completed"
    },
    "tags": []
   },
   "outputs": [],
   "source": [
    "GCS_DS_PATH = KaggleDatasets().get_gcs_path() # you can list the bucket with \"!gsutil ls $GCS_DS_PATH\""
   ]
  },
  {
   "cell_type": "markdown",
   "id": "94814238",
   "metadata": {
    "papermill": {
     "duration": 0.01579,
     "end_time": "2022-01-10T16:53:53.794822",
     "exception": false,
     "start_time": "2022-01-10T16:53:53.779032",
     "status": "completed"
    },
    "tags": []
   },
   "source": [
    "# Set some parameters"
   ]
  },
  {
   "cell_type": "code",
   "execution_count": 5,
   "id": "614f6975",
   "metadata": {
    "execution": {
     "iopub.execute_input": "2022-01-10T16:53:53.832689Z",
     "iopub.status.busy": "2022-01-10T16:53:53.832092Z",
     "iopub.status.idle": "2022-01-10T16:53:53.834793Z",
     "shell.execute_reply": "2022-01-10T16:53:53.834342Z",
     "shell.execute_reply.started": "2022-01-10T15:15:49.969875Z"
    },
    "papermill": {
     "duration": 0.024037,
     "end_time": "2022-01-10T16:53:53.834971",
     "exception": false,
     "start_time": "2022-01-10T16:53:53.810934",
     "status": "completed"
    },
    "tags": []
   },
   "outputs": [],
   "source": [
    "DIM = 224\n",
    "IMAGE_SIZE = [DIM, DIM] # at this size, a GPU will run out of memory. Use the TPU\n",
    "EPOCHS = 20\n",
    "BATCH_SIZE = 32 * strategy.num_replicas_in_sync\n",
    "\n",
    "NUM_TRAINING_IMAGES = 12753\n",
    "NUM_TEST_IMAGES = 7382\n",
    "STEPS_PER_EPOCH = NUM_TRAINING_IMAGES // BATCH_SIZE\n",
    "AUTO = tf.data.experimental.AUTOTUNE"
   ]
  },
  {
   "cell_type": "markdown",
   "id": "40b9aae0",
   "metadata": {
    "papermill": {
     "duration": 0.016999,
     "end_time": "2022-01-10T16:53:53.868026",
     "exception": false,
     "start_time": "2022-01-10T16:53:53.851027",
     "status": "completed"
    },
    "tags": []
   },
   "source": [
    "# Load my data\n",
    "\n",
    "This data is loaded from Kaggle and automatically sharded to maximize parallelization."
   ]
  },
  {
   "cell_type": "code",
   "execution_count": 6,
   "id": "dd93d921",
   "metadata": {
    "execution": {
     "iopub.execute_input": "2022-01-10T16:53:53.918102Z",
     "iopub.status.busy": "2022-01-10T16:53:53.917228Z",
     "iopub.status.idle": "2022-01-10T16:53:54.286921Z",
     "shell.execute_reply": "2022-01-10T16:53:54.285940Z",
     "shell.execute_reply.started": "2022-01-10T15:15:52.236705Z"
    },
    "papermill": {
     "duration": 0.402934,
     "end_time": "2022-01-10T16:53:54.287076",
     "exception": false,
     "start_time": "2022-01-10T16:53:53.884142",
     "status": "completed"
    },
    "tags": []
   },
   "outputs": [
    {
     "name": "stderr",
     "output_type": "stream",
     "text": [
      "2022-01-10 16:53:53.922337: I tensorflow/core/platform/cloud/google_auth_provider.cc:180] Attempting an empty bearer token since no token was retrieved from files, and GCE metadata check was skipped.\n",
      "2022-01-10 16:53:54.193295: I tensorflow/core/platform/cloud/google_auth_provider.cc:180] Attempting an empty bearer token since no token was retrieved from files, and GCE metadata check was skipped.\n"
     ]
    }
   ],
   "source": [
    "def decode_image(image_data):\n",
    "    image = tf.image.decode_jpeg(image_data, channels=3)\n",
    "    image = tf.cast(image, tf.float32) / 255.0  # convert image to floats in [0, 1] range\n",
    "    image = tf.reshape(image, [*IMAGE_SIZE, 3]) # explicit size needed for TPU\n",
    "    return image\n",
    "\n",
    "def read_labeled_tfrecord(example):\n",
    "    LABELED_TFREC_FORMAT = {\n",
    "        \"image\": tf.io.FixedLenFeature([], tf.string), # tf.string means bytestring\n",
    "        \"class\": tf.io.FixedLenFeature([], tf.int64),  # shape [] means single element\n",
    "    }\n",
    "    example = tf.io.parse_single_example(example, LABELED_TFREC_FORMAT)\n",
    "    image = decode_image(example['image'])\n",
    "    label = tf.cast(example['class'], tf.int32)\n",
    "    return image, label # returns a dataset of (image, label) pairs\n",
    "\n",
    "def read_unlabeled_tfrecord(example):\n",
    "    UNLABELED_TFREC_FORMAT = {\n",
    "        \"image\": tf.io.FixedLenFeature([], tf.string), # tf.string means bytestring\n",
    "        \"id\": tf.io.FixedLenFeature([], tf.string),  # shape [] means single element\n",
    "        # class is missing, this competitions's challenge is to predict flower classes for the test dataset\n",
    "    }\n",
    "    example = tf.io.parse_single_example(example, UNLABELED_TFREC_FORMAT)\n",
    "    image = decode_image(example['image'])\n",
    "    idnum = example['id']\n",
    "    return image, idnum # returns a dataset of image(s)\n",
    "\n",
    "def load_dataset(filenames, labeled=True, ordered=False):\n",
    "    # Read from TFRecords. For optimal performance, reading from multiple files at once and\n",
    "    # disregarding data order. Order does not matter since we will be shuffling the data anyway.\n",
    "\n",
    "    ignore_order = tf.data.Options()\n",
    "    if not ordered:\n",
    "        ignore_order.experimental_deterministic = False # disable order, increase speed\n",
    "\n",
    "    dataset = tf.data.TFRecordDataset(filenames, num_parallel_reads=AUTO) # automatically interleaves reads from multiple files\n",
    "    dataset = dataset.with_options(ignore_order) # uses data as soon as it streams in, rather than in its original order\n",
    "    dataset = dataset.map(read_labeled_tfrecord if labeled else read_unlabeled_tfrecord, num_parallel_calls=AUTO)\n",
    "    # returns a dataset of (image, label) pairs if labeled=True or (image, id) pairs if labeled=False\n",
    "    return dataset\n",
    "\n",
    "def get_training_dataset():\n",
    "    dataset = load_dataset(tf.io.gfile.glob(GCS_DS_PATH + F'/tfrecords-jpeg-{DIM}x{DIM}/train/*.tfrec'), labeled=True)\n",
    "    dataset = dataset.repeat() # the training dataset must repeat for several epochs\n",
    "    dataset = dataset.shuffle(2048)\n",
    "    dataset = dataset.batch(BATCH_SIZE)\n",
    "    dataset = dataset.prefetch(AUTO) # prefetch next batch while training (autotune prefetch buffer size)\n",
    "    return dataset\n",
    "\n",
    "def get_validation_dataset():\n",
    "    dataset = load_dataset(tf.io.gfile.glob(GCS_DS_PATH + F'/tfrecords-jpeg-{DIM}x{DIM}/val/*.tfrec'), labeled=True, ordered=False)\n",
    "    dataset = dataset.batch(BATCH_SIZE)\n",
    "    dataset = dataset.cache()\n",
    "    dataset = dataset.prefetch(AUTO) # prefetch next batch while training (autotune prefetch buffer size)\n",
    "    return dataset\n",
    "\n",
    "def get_test_dataset(ordered=False):\n",
    "    dataset = load_dataset(tf.io.gfile.glob(GCS_DS_PATH + f'/tfrecords-jpeg-{DIM}x{DIM}/test/*.tfrec'), labeled=False, ordered=ordered)\n",
    "    dataset = dataset.batch(BATCH_SIZE)\n",
    "    dataset = dataset.prefetch(AUTO) # prefetch next batch while training (autotune prefetch buffer size)\n",
    "    return dataset\n",
    "\n",
    "training_dataset = get_training_dataset()\n",
    "validation_dataset = get_validation_dataset()"
   ]
  },
  {
   "cell_type": "markdown",
   "id": "c5d1968e",
   "metadata": {
    "papermill": {
     "duration": 0.016755,
     "end_time": "2022-01-10T16:53:54.321354",
     "exception": false,
     "start_time": "2022-01-10T16:53:54.304599",
     "status": "completed"
    },
    "tags": []
   },
   "source": [
    "# Learning Rate Scheduler"
   ]
  },
  {
   "cell_type": "code",
   "execution_count": 7,
   "id": "15beaa98",
   "metadata": {
    "execution": {
     "iopub.execute_input": "2022-01-10T16:53:54.361569Z",
     "iopub.status.busy": "2022-01-10T16:53:54.360476Z",
     "iopub.status.idle": "2022-01-10T16:53:54.621101Z",
     "shell.execute_reply": "2022-01-10T16:53:54.621602Z",
     "shell.execute_reply.started": "2022-01-10T15:15:53.178256Z"
    },
    "papermill": {
     "duration": 0.28272,
     "end_time": "2022-01-10T16:53:54.621772",
     "exception": false,
     "start_time": "2022-01-10T16:53:54.339052",
     "status": "completed"
    },
    "tags": []
   },
   "outputs": [
    {
     "name": "stdout",
     "output_type": "stream",
     "text": [
      "Learning rate schedule: 1e-05 to 0.0004 to 1.56e-05\n"
     ]
    },
    {
     "data": {
      "image/png": "[encoded data removed]",
      "text/plain": [
       "<Figure size 432x288 with 1 Axes>"
      ]
     },
     "metadata": {
      "needs_background": "light"
     },
     "output_type": "display_data"
    }
   ],
   "source": [
    "# Learning rate schedule for TPU, GPU and CPU.\n",
    "# Using an LR ramp up because fine-tuning a pre-trained model.\n",
    "# Starting with a high LR would break the pre-trained weights.\n",
    "\n",
    "LR_START = 0.00001\n",
    "LR_MAX = 0.00005 * strategy.num_replicas_in_sync\n",
    "LR_MIN = 0.00001\n",
    "LR_RAMPUP_EPOCHS = 5\n",
    "LR_SUSTAIN_EPOCHS = 0\n",
    "LR_EXP_DECAY = .8\n",
    "\n",
    "def lrfn(epoch):\n",
    "    if epoch < LR_RAMPUP_EPOCHS:\n",
    "        lr = (LR_MAX - LR_START) / LR_RAMPUP_EPOCHS * epoch + LR_START\n",
    "    elif epoch < LR_RAMPUP_EPOCHS + LR_SUSTAIN_EPOCHS:\n",
    "        lr = LR_MAX\n",
    "    else:\n",
    "        lr = (LR_MAX - LR_MIN) * LR_EXP_DECAY**(epoch - LR_RAMPUP_EPOCHS - LR_SUSTAIN_EPOCHS) + LR_MIN\n",
    "    return lr\n",
    "    \n",
    "lr_callback = tf.keras.callbacks.LearningRateScheduler(lrfn, verbose = False)\n",
    "\n",
    "rng = [i for i in range(25 if EPOCHS<25 else EPOCHS)]\n",
    "y = [lrfn(x) for x in rng]\n",
    "plt.plot(rng, y, '-o')\n",
    "print(\"Learning rate schedule: {:.3g} to {:.3g} to {:.3g}\".format(y[0], max(y), y[-1]))"
   ]
  },
  {
   "cell_type": "markdown",
   "id": "432917c9",
   "metadata": {
    "papermill": {
     "duration": 0.017904,
     "end_time": "2022-01-10T16:53:54.657734",
     "exception": false,
     "start_time": "2022-01-10T16:53:54.639830",
     "status": "completed"
    },
    "tags": []
   },
   "source": [
    "# Build a model"
   ]
  },
  {
   "cell_type": "code",
   "execution_count": 8,
   "id": "41cfb81a",
   "metadata": {
    "execution": {
     "iopub.execute_input": "2022-01-10T16:53:54.698695Z",
     "iopub.status.busy": "2022-01-10T16:53:54.697705Z",
     "iopub.status.idle": "2022-01-10T16:54:11.155759Z",
     "shell.execute_reply": "2022-01-10T16:54:11.155234Z",
     "shell.execute_reply.started": "2022-01-10T15:15:56.385518Z"
    },
    "papermill": {
     "duration": 16.479956,
     "end_time": "2022-01-10T16:54:11.155926",
     "exception": false,
     "start_time": "2022-01-10T16:53:54.675970",
     "status": "completed"
    },
    "tags": []
   },
   "outputs": [
    {
     "name": "stdout",
     "output_type": "stream",
     "text": [
      "Downloading data from https://github.com/sebastian-sz/resnet-rs-keras/releases/download/v1.0/resnet-rs-50-i160_notop.h5\n",
      "135364608/135360144 [==============================] - 2s 0us/step\n",
      "Model: \"sequential\"\n",
      "_________________________________________________________________\n",
      "Layer (type)                 Output Shape              Param #   \n",
      "=================================================================\n",
      "resnet-rs-50 (Functional)    (None, 7, 7, 2048)        33696288  \n",
      "_________________________________________________________________\n",
      "global_average_pooling2d (Gl (None, 2048)              0         \n",
      "_________________________________________________________________\n",
      "dense (Dense)                (None, 104)               213096    \n",
      "=================================================================\n",
      "Total params: 33,909,384\n",
      "Trainable params: 33,856,008\n",
      "Non-trainable params: 53,376\n",
      "_________________________________________________________________\n"
     ]
    }
   ],
   "source": [
    "with strategy.scope():    \n",
    "#     backbone = tf.keras.applications.VGG16(weights='imagenet', \n",
    "#                                            include_top=False ,\n",
    "#                                            input_shape=[*IMAGE_SIZE, 3])\n",
    "    backbone = resnet_rs.ResNetRS50(\n",
    "        input_shape=(*IMAGE_SIZE, 3),\n",
    "        include_top=False,\n",
    "        weights=\"imagenet\"\n",
    "    )\n",
    "    backbone.trainable = True # tramsfer learning\n",
    "    \n",
    "    model = tf.keras.Sequential([\n",
    "        backbone,\n",
    "        tf.keras.layers.GlobalAveragePooling2D(),\n",
    "        tf.keras.layers.Dense(104, activation='softmax')\n",
    "    ])\n",
    "        \n",
    "model.compile(\n",
    "    optimizer='adam',\n",
    "    loss='sparse_categorical_crossentropy',\n",
    "    metrics=['sparse_categorical_accuracy']\n",
    ")\n",
    "\n",
    "model.summary()"
   ]
  },
  {
   "cell_type": "markdown",
   "id": "0e69084f",
   "metadata": {
    "papermill": {
     "duration": 0.026908,
     "end_time": "2022-01-10T16:54:11.211496",
     "exception": false,
     "start_time": "2022-01-10T16:54:11.184588",
     "status": "completed"
    },
    "tags": []
   },
   "source": [
    "# Training"
   ]
  },
  {
   "cell_type": "code",
   "execution_count": 9,
   "id": "949ca448",
   "metadata": {
    "execution": {
     "iopub.execute_input": "2022-01-10T16:54:11.274136Z",
     "iopub.status.busy": "2022-01-10T16:54:11.273396Z",
     "iopub.status.idle": "2022-01-10T16:58:04.971641Z",
     "shell.execute_reply": "2022-01-10T16:58:04.972163Z"
    },
    "papermill": {
     "duration": 233.733806,
     "end_time": "2022-01-10T16:58:04.972351",
     "exception": false,
     "start_time": "2022-01-10T16:54:11.238545",
     "status": "completed"
    },
    "tags": []
   },
   "outputs": [
    {
     "name": "stdout",
     "output_type": "stream",
     "text": [
      "Epoch 1/20\n",
      "49/49 [==============================] - 77s 377ms/step - loss: 4.6301 - sparse_categorical_accuracy: 0.0152 - val_loss: 4.2201 - val_sparse_categorical_accuracy: 0.1223\n",
      "Epoch 2/20\n",
      " 1/49 [..............................] - ETA: 7s - loss: 4.1576 - sparse_categorical_accuracy: 0.1836"
     ]
    },
    {
     "name": "stderr",
     "output_type": "stream",
     "text": [
      "2022-01-10 16:55:28.639634: W ./tensorflow/core/distributed_runtime/eager/destroy_tensor_handle_node.h:57] Ignoring an error encountered when deleting remote tensors handles: Invalid argument: Unable to find the relevant tensor remote_handle: Op ID: 30551, Output num: 1\n",
      "Additional GRPC error information from remote target /job:worker/replica:0/task:0:\n",
      ":{\"created\":\"@1641833728.636283765\",\"description\":\"Error received from peer ipv4:10.0.0.2:8470\",\"file\":\"external/com_github_grpc_grpc/src/core/lib/surface/call.cc\",\"file_line\":1056,\"grpc_message\":\"Unable to find the relevant tensor remote_handle: Op ID: 30551, Output num: 1\",\"grpc_status\":3}\n"
     ]
    },
    {
     "name": "stdout",
     "output_type": "stream",
     "text": [
      "49/49 [==============================] - 8s 166ms/step - loss: 3.1353 - sparse_categorical_accuracy: 0.3643 - val_loss: 1.1710 - val_sparse_categorical_accuracy: 0.7317\n",
      "Epoch 3/20\n",
      "49/49 [==============================] - 8s 167ms/step - loss: 0.8630 - sparse_categorical_accuracy: 0.8006 - val_loss: 0.5167 - val_sparse_categorical_accuracy: 0.8680\n",
      "Epoch 4/20\n",
      "49/49 [==============================] - 8s 166ms/step - loss: 0.2756 - sparse_categorical_accuracy: 0.9321 - val_loss: 0.4187 - val_sparse_categorical_accuracy: 0.8912\n",
      "Epoch 5/20\n",
      "49/49 [==============================] - 8s 168ms/step - loss: 0.1017 - sparse_categorical_accuracy: 0.9755 - val_loss: 0.4292 - val_sparse_categorical_accuracy: 0.8925\n",
      "Epoch 6/20\n",
      "49/49 [==============================] - 8s 168ms/step - loss: 0.0896 - sparse_categorical_accuracy: 0.9778 - val_loss: 0.4954 - val_sparse_categorical_accuracy: 0.8723\n",
      "Epoch 7/20\n",
      "49/49 [==============================] - 8s 166ms/step - loss: 0.0782 - sparse_categorical_accuracy: 0.9802 - val_loss: 0.4427 - val_sparse_categorical_accuracy: 0.8922\n",
      "Epoch 8/20\n",
      "49/49 [==============================] - 8s 165ms/step - loss: 0.0370 - sparse_categorical_accuracy: 0.9905 - val_loss: 0.3893 - val_sparse_categorical_accuracy: 0.9084\n",
      "Epoch 9/20\n",
      "49/49 [==============================] - 8s 167ms/step - loss: 0.0154 - sparse_categorical_accuracy: 0.9969 - val_loss: 0.3575 - val_sparse_categorical_accuracy: 0.9186\n",
      "Epoch 10/20\n",
      "49/49 [==============================] - 8s 166ms/step - loss: 0.0073 - sparse_categorical_accuracy: 0.9990 - val_loss: 0.3508 - val_sparse_categorical_accuracy: 0.9192\n",
      "Epoch 11/20\n",
      "49/49 [==============================] - 8s 167ms/step - loss: 0.0052 - sparse_categorical_accuracy: 0.9993 - val_loss: 0.3764 - val_sparse_categorical_accuracy: 0.9133\n",
      "Epoch 12/20\n",
      "49/49 [==============================] - 8s 166ms/step - loss: 0.0038 - sparse_categorical_accuracy: 0.9992 - val_loss: 0.3739 - val_sparse_categorical_accuracy: 0.9173\n",
      "Epoch 13/20\n",
      "49/49 [==============================] - 9s 178ms/step - loss: 0.0022 - sparse_categorical_accuracy: 0.9999 - val_loss: 0.3639 - val_sparse_categorical_accuracy: 0.9168\n",
      "Epoch 14/20\n",
      "49/49 [==============================] - 8s 169ms/step - loss: 0.0025 - sparse_categorical_accuracy: 0.9997 - val_loss: 0.3700 - val_sparse_categorical_accuracy: 0.9168\n",
      "Epoch 15/20\n",
      "49/49 [==============================] - 8s 168ms/step - loss: 0.0019 - sparse_categorical_accuracy: 0.9999 - val_loss: 0.3627 - val_sparse_categorical_accuracy: 0.9197\n",
      "Epoch 16/20\n",
      "49/49 [==============================] - 8s 168ms/step - loss: 0.0014 - sparse_categorical_accuracy: 1.0000 - val_loss: 0.3758 - val_sparse_categorical_accuracy: 0.9176\n",
      "Epoch 17/20\n",
      "49/49 [==============================] - 8s 168ms/step - loss: 0.0015 - sparse_categorical_accuracy: 1.0000 - val_loss: 0.3673 - val_sparse_categorical_accuracy: 0.9256\n",
      "Epoch 18/20\n",
      "49/49 [==============================] - 8s 167ms/step - loss: 0.0015 - sparse_categorical_accuracy: 1.0000 - val_loss: 0.3673 - val_sparse_categorical_accuracy: 0.9184\n",
      "Epoch 19/20\n",
      "49/49 [==============================] - 8s 166ms/step - loss: 0.0014 - sparse_categorical_accuracy: 1.0000 - val_loss: 0.3548 - val_sparse_categorical_accuracy: 0.9205\n",
      "Epoch 20/20\n",
      "49/49 [==============================] - 8s 167ms/step - loss: 0.0014 - sparse_categorical_accuracy: 1.0000 - val_loss: 0.3516 - val_sparse_categorical_accuracy: 0.9243\n"
     ]
    }
   ],
   "source": [
    "history = model.fit(training_dataset, \n",
    "          steps_per_epoch=STEPS_PER_EPOCH, \n",
    "          epochs=EPOCHS, \n",
    "          validation_data=validation_dataset,\n",
    "          callbacks=[lr_callback])"
   ]
  },
  {
   "cell_type": "markdown",
   "id": "550fbd2b",
   "metadata": {
    "papermill": {
     "duration": 0.348662,
     "end_time": "2022-01-10T16:58:05.648679",
     "exception": false,
     "start_time": "2022-01-10T16:58:05.300017",
     "status": "completed"
    },
    "tags": []
   },
   "source": [
    "# History"
   ]
  },
  {
   "cell_type": "code",
   "execution_count": 10,
   "id": "76299dd3",
   "metadata": {
    "execution": {
     "iopub.execute_input": "2022-01-10T16:58:06.305136Z",
     "iopub.status.busy": "2022-01-10T16:58:06.304405Z",
     "iopub.status.idle": "2022-01-10T16:58:06.814997Z",
     "shell.execute_reply": "2022-01-10T16:58:06.815458Z",
     "shell.execute_reply.started": "2022-01-10T15:14:52.680658Z"
    },
    "papermill": {
     "duration": 0.84299,
     "end_time": "2022-01-10T16:58:06.815630",
     "exception": false,
     "start_time": "2022-01-10T16:58:05.972640",
     "status": "completed"
    },
    "tags": []
   },
   "outputs": [
    {
     "data": {
      "image/png": "[encoded data removed]",
      "text/plain": [
       "<Figure size 720x360 with 1 Axes>"
      ]
     },
     "metadata": {
      "needs_background": "light"
     },
     "output_type": "display_data"
    },
    {
     "data": {
      "image/png": "[encoded data removed]",
      "text/plain": [
       "<Figure size 720x360 with 1 Axes>"
      ]
     },
     "metadata": {
      "needs_background": "light"
     },
     "output_type": "display_data"
    }
   ],
   "source": [
    "import pandas as pd\n",
    "import matplotlib as mpl\n",
    "mpl.rcParams['figure.figsize'] = (10, 5)\n",
    "data = pd.DataFrame(history.history)\n",
    "metrics = ['loss', 'sparse_categorical_accuracy']\n",
    "for metric in metrics:\n",
    "    data[[f'{metric}',f'val_{metric}']].plot()"
   ]
  },
  {
   "cell_type": "markdown",
   "id": "84d1971d",
   "metadata": {
    "papermill": {
     "duration": 0.330579,
     "end_time": "2022-01-10T16:58:07.475435",
     "exception": false,
     "start_time": "2022-01-10T16:58:07.144856",
     "status": "completed"
    },
    "tags": []
   },
   "source": [
    "# Compute your predictions on the test set!\n",
    "\n",
    "This will create a file that can be submitted to the competition."
   ]
  },
  {
   "cell_type": "code",
   "execution_count": 11,
   "id": "066335ed",
   "metadata": {
    "execution": {
     "iopub.execute_input": "2022-01-10T16:58:08.146751Z",
     "iopub.status.busy": "2022-01-10T16:58:08.146069Z",
     "iopub.status.idle": "2022-01-10T16:58:25.823853Z",
     "shell.execute_reply": "2022-01-10T16:58:25.823277Z",
     "shell.execute_reply.started": "2022-01-10T15:15:03.444073Z"
    },
    "papermill": {
     "duration": 18.019411,
     "end_time": "2022-01-10T16:58:25.824044",
     "exception": false,
     "start_time": "2022-01-10T16:58:07.804633",
     "status": "completed"
    },
    "tags": []
   },
   "outputs": [
    {
     "name": "stderr",
     "output_type": "stream",
     "text": [
      "2022-01-10 16:58:08.145051: I tensorflow/core/platform/cloud/google_auth_provider.cc:180] Attempting an empty bearer token since no token was retrieved from files, and GCE metadata check was skipped.\n"
     ]
    },
    {
     "name": "stdout",
     "output_type": "stream",
     "text": [
      "Computing predictions...\n"
     ]
    },
    {
     "name": "stderr",
     "output_type": "stream",
     "text": [
      "2022-01-10 16:58:25.004900: W ./tensorflow/core/distributed_runtime/eager/destroy_tensor_handle_node.h:57] Ignoring an error encountered when deleting remote tensors handles: Invalid argument: Unable to find the relevant tensor remote_handle: Op ID: 47243, Output num: 0\n",
      "Additional GRPC error information from remote target /job:worker/replica:0/task:0:\n",
      ":{\"created\":\"@1641833905.004742936\",\"description\":\"Error received from peer ipv4:10.0.0.2:8470\",\"file\":\"external/com_github_grpc_grpc/src/core/lib/surface/call.cc\",\"file_line\":1056,\"grpc_message\":\"Unable to find the relevant tensor remote_handle: Op ID: 47243, Output num: 0\",\"grpc_status\":3}\n"
     ]
    },
    {
     "name": "stdout",
     "output_type": "stream",
     "text": [
      "[ 67  28  83 ...  48 102  62]\n",
      "Generating submission.csv file...\n"
     ]
    }
   ],
   "source": [
    "test_ds = get_test_dataset(ordered=True) # since we are splitting the dataset and iterating separately on images and ids, order matters.\n",
    "\n",
    "print('Computing predictions...')\n",
    "test_images_ds = test_ds.map(lambda image, idnum: image)\n",
    "probabilities = model.predict(test_images_ds)\n",
    "predictions = np.argmax(probabilities, axis=-1)\n",
    "print(predictions)\n",
    "\n",
    "print('Generating submission.csv file...')\n",
    "test_ids_ds = test_ds.map(lambda image, idnum: idnum).unbatch()\n",
    "test_ids = next(iter(test_ids_ds.batch(NUM_TEST_IMAGES))).numpy().astype('U') # all in one batch\n",
    "np.savetxt('submission.csv', np.rec.fromarrays([test_ids, predictions]), fmt=['%s', '%d'], delimiter=',', header='id,label', comments='')"
   ]
  },
  {
   "cell_type": "code",
   "execution_count": null,
   "id": "be95f2fd",
   "metadata": {
    "papermill": {
     "duration": 0.332442,
     "end_time": "2022-01-10T16:58:26.489650",
     "exception": false,
     "start_time": "2022-01-10T16:58:26.157208",
     "status": "completed"
    },
    "tags": []
   },
   "outputs": [],
   "source": []
  }
 ],
 "metadata": {
  "kernelspec": {
   "display_name": "Python 3",
   "language": "python",
   "name": "python3"
  },
  "language_info": {
   "codemirror_mode": {
    "name": "ipython",
    "version": 3
   },
   "file_extension": ".py",
   "mimetype": "text/x-python",
   "name": "python",
   "nbconvert_exporter": "python",
   "pygments_lexer": "ipython3",
   "version": "3.7.10"
  },
  "papermill": {
   "default_parameters": {},
   "duration": 308.88537,
   "end_time": "2022-01-10T16:58:30.177387",
   "environment_variables": {},
   "exception": null,
   "input_path": "__notebook__.ipynb",
   "output_path": "__notebook__.ipynb",
   "parameters": {},
   "start_time": "2022-01-10T16:53:21.292017",
   "version": "2.3.3"
  }
 },
 "nbformat": 4,
 "nbformat_minor": 5
}
